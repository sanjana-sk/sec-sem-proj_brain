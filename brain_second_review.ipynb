{
  "nbformat": 4,
  "nbformat_minor": 0,
  "metadata": {
    "colab": {
      "name": "brain_second_review.ipynb",
      "provenance": [],
      "collapsed_sections": []
    },
    "kernelspec": {
      "name": "python3",
      "display_name": "Python 3"
    },
    "accelerator": "GPU"
  },
  "cells": [
    {
      "cell_type": "markdown",
      "metadata": {
        "id": "nSGmZs7zV-i6"
      },
      "source": [
        "importing the necessary libraries."
      ]
    },
    {
      "cell_type": "code",
      "metadata": {
        "id": "aecFsv8gSQei"
      },
      "source": [
        "from keras.models import Model\r\n",
        "from keras.layers import Dense, Dropout, Activation, Flatten, concatenate, Conv2D, MaxPooling2D, Conv2DTranspose\r\n",
        "from keras.layers import Input, merge, UpSampling2D,BatchNormalization\r\n",
        "from keras.callbacks import ModelCheckpoint\r\n",
        "from keras.optimizers import Adam\r\n",
        "from keras.preprocessing.image import ImageDataGenerator\r\n",
        "from keras import backend as K\r\n",
        "import tensorflow as tf\r\n",
        "\r\n",
        "import matplotlib.pyplot as plt\r\n",
        "import skimage.io as io\r\n",
        "from glob import glob\r\n",
        "\r\n",
        "import numpy as np\r\n",
        "import random as r\r\n",
        "import cv2"
      ],
      "execution_count": 5,
      "outputs": []
    },
    {
      "cell_type": "markdown",
      "metadata": {
        "id": "Y4siWePWWESn"
      },
      "source": [
        "to read medical images."
      ]
    },
    {
      "cell_type": "code",
      "metadata": {
        "colab": {
          "base_uri": "https://localhost:8080/"
        },
        "id": "pfmitejqShhB",
        "outputId": "05141612-77a3-4535-9297-e2c2104762b1"
      },
      "source": [
        "!pip install simpleitk"
      ],
      "execution_count": 6,
      "outputs": [
        {
          "output_type": "stream",
          "text": [
            "Requirement already satisfied: simpleitk in /usr/local/lib/python3.7/dist-packages (2.0.2)\n"
          ],
          "name": "stdout"
        }
      ]
    },
    {
      "cell_type": "markdown",
      "metadata": {
        "id": "VYP3oycZWLeO"
      },
      "source": [
        "path to the dataset."
      ]
    },
    {
      "cell_type": "code",
      "metadata": {
        "id": "N9csC_5PSql-"
      },
      "source": [
        "path = \"/content/drive/MyDrive/Brats/sec_hgg/\""
      ],
      "execution_count": 7,
      "outputs": []
    },
    {
      "cell_type": "markdown",
      "metadata": {
        "id": "3KqKrag2WQz4"
      },
      "source": [
        "reading all the FLAIR images for each person and printing the number of files."
      ]
    },
    {
      "cell_type": "code",
      "metadata": {
        "colab": {
          "base_uri": "https://localhost:8080/"
        },
        "id": "75Y7xSxYSr2l",
        "outputId": "f98a3ddd-df95-4165-ff20-1aeb047dac2f"
      },
      "source": [
        "files = glob(path+\"**/*flair.nii.gz\")\r\n",
        "\r\n",
        "len(files)"
      ],
      "execution_count": 8,
      "outputs": [
        {
          "output_type": "execute_result",
          "data": {
            "text/plain": [
              "32"
            ]
          },
          "metadata": {
            "tags": []
          },
          "execution_count": 8
        }
      ]
    },
    {
      "cell_type": "markdown",
      "metadata": {
        "id": "bDWLaJ9biQDM"
      },
      "source": [
        "number of t1 images"
      ]
    },
    {
      "cell_type": "code",
      "metadata": {
        "colab": {
          "base_uri": "https://localhost:8080/"
        },
        "id": "o2s5dLCjiDZV",
        "outputId": "35963171-2d93-4c98-9874-73104e7a57d2"
      },
      "source": [
        "files_1 = glob(path+\"**/*t1.nii.gz\")\r\n",
        "\r\n",
        "len(files_1)"
      ],
      "execution_count": 9,
      "outputs": [
        {
          "output_type": "execute_result",
          "data": {
            "text/plain": [
              "32"
            ]
          },
          "metadata": {
            "tags": []
          },
          "execution_count": 9
        }
      ]
    },
    {
      "cell_type": "markdown",
      "metadata": {
        "id": "eFYVgbSmutAt"
      },
      "source": [
        "no of t2 files"
      ]
    },
    {
      "cell_type": "code",
      "metadata": {
        "colab": {
          "base_uri": "https://localhost:8080/"
        },
        "id": "ntpCdejZunyN",
        "outputId": "e8cb6761-e71e-4520-be07-e10c67859122"
      },
      "source": [
        "files_2 = glob(path+\"**/*t2.nii.gz\")\r\n",
        "\r\n",
        "len(files_2)"
      ],
      "execution_count": 10,
      "outputs": [
        {
          "output_type": "execute_result",
          "data": {
            "text/plain": [
              "32"
            ]
          },
          "metadata": {
            "tags": []
          },
          "execution_count": 10
        }
      ]
    },
    {
      "cell_type": "markdown",
      "metadata": {
        "id": "H7xQrapru35P"
      },
      "source": [
        "no of t1ce images and all are equal in number"
      ]
    },
    {
      "cell_type": "code",
      "metadata": {
        "colab": {
          "base_uri": "https://localhost:8080/"
        },
        "id": "cB6bRPK0uwN_",
        "outputId": "96bf5348-0adb-4418-9f14-4cc3454a5e55"
      },
      "source": [
        "files_3 = glob(path+\"**/*t1ce.nii.gz\")\r\n",
        "\r\n",
        "len(files_3)"
      ],
      "execution_count": 11,
      "outputs": [
        {
          "output_type": "execute_result",
          "data": {
            "text/plain": [
              "32"
            ]
          },
          "metadata": {
            "tags": []
          },
          "execution_count": 11
        }
      ]
    },
    {
      "cell_type": "markdown",
      "metadata": {
        "id": "RuYR2I3YWkgb"
      },
      "source": [
        "a sample image is read and its shaped id viewed . the image is also plotted."
      ]
    },
    {
      "cell_type": "code",
      "metadata": {
        "colab": {
          "base_uri": "https://localhost:8080/",
          "height": 349
        },
        "id": "YPHgqVtIvcfW",
        "outputId": "2425ba38-887e-4656-fe4a-a0d21cfa824c"
      },
      "source": [
        "sample_image = io.imread(files[1], plugin=\"simpleitk\")\r\n",
        "\r\n",
        "print(f\"shape: {sample_image.shape}\")\r\n",
        "\r\n",
        "fig = plt.figure(figsize=(15,10))\r\n",
        "\r\n",
        "axis1 = fig.add_subplot(1,3,1)\r\n",
        "axis1.imshow(sample_image[90,:,:],cmap='gray')\r\n",
        "plt.title(\"flair\", fontsize=20)\r\n"
      ],
      "execution_count": 12,
      "outputs": [
        {
          "output_type": "stream",
          "text": [
            "shape: (155, 240, 240)\n"
          ],
          "name": "stdout"
        },
        {
          "output_type": "execute_result",
          "data": {
            "text/plain": [
              "Text(0.5, 1.0, 'flair')"
            ]
          },
          "metadata": {
            "tags": []
          },
          "execution_count": 12
        },
        {
          "output_type": "display_data",
          "data": {
            "image/png": "[encoded data removed]",
            "text/plain": [
              "<Figure size 1080x720 with 1 Axes>"
            ]
          },
          "metadata": {
            "tags": [],
            "needs_background": "light"
          }
        }
      ]
    },
    {
      "cell_type": "markdown",
      "metadata": {
        "id": "Jo1EXofdwgdV"
      },
      "source": [
        "the images are converted into array. standarization and image resize is perfomed."
      ]
    },
    {
      "cell_type": "code",
      "metadata": {
        "id": "g7d58hGZvvZE"
      },
      "source": [
        "def to_array(path, end):\r\n",
        "    files = glob(path+end, recursive=True)\r\n",
        "    \r\n",
        "    image_list = []\r\n",
        "    \r\n",
        "    r.seed(42)\r\n",
        "    r.shuffle(files)\r\n",
        "    \r\n",
        "    for file in files:\r\n",
        "        img = io.imread(file, plugin=\"simpleitk\")\r\n",
        "\r\n",
        "        \r\n",
        "        img = (img-img.mean())/img.std()\r\n",
        "        img.astype(\"float32\")\r\n",
        "        \r\n",
        "        for slice in range(60, 130):\r\n",
        "            image_slice = img[slice,:,:]\r\n",
        "            \r\n",
        "            \r\n",
        "            image_slice = cv2.resize(image_slice, (128,128))\r\n",
        "            \r\n",
        "            image_slice = np.expand_dims(image_slice, axis=0)\r\n",
        "            image_list.append(image_slice)\r\n",
        "            \r\n",
        "    return np.array(image_list,np.float32)"
      ],
      "execution_count": 13,
      "outputs": []
    },
    {
      "cell_type": "markdown",
      "metadata": {
        "id": "tzdm7E5CV8gT"
      },
      "source": [
        ""
      ]
    },
    {
      "cell_type": "code",
      "metadata": {
        "colab": {
          "base_uri": "https://localhost:8080/"
        },
        "id": "B4jNQj7ljlqU",
        "outputId": "0c1755e4-4532-4754-d8db-a0b598efbd9e"
      },
      "source": [
        "first_img = io.imread(files[1], plugin=\"simpleitk\")\r\n",
        "\r\n",
        "print(f\"shape: {first_img.shape}\")\r\n",
        "\r\n",
        "\r\n"
      ],
      "execution_count": 14,
      "outputs": [
        {
          "output_type": "stream",
          "text": [
            "shape: (155, 240, 240)\n"
          ],
          "name": "stdout"
        }
      ]
    },
    {
      "cell_type": "code",
      "metadata": {
        "colab": {
          "base_uri": "https://localhost:8080/"
        },
        "id": "vK2CtMZ3x1vB",
        "outputId": "15dfd916-1653-4cca-876d-eb758522a5bf"
      },
      "source": [
        "first_img.shape\r\n",
        "\r\n",
        "exp = first_img[60,:,:]\r\n",
        "\r\n",
        "exp.shape"
      ],
      "execution_count": 15,
      "outputs": [
        {
          "output_type": "execute_result",
          "data": {
            "text/plain": [
              "(240, 240)"
            ]
          },
          "metadata": {
            "tags": []
          },
          "execution_count": 15
        }
      ]
    },
    {
      "cell_type": "markdown",
      "metadata": {
        "id": "AbsLkQoc50rl"
      },
      "source": [
        "to add channel to the shape of the data as a 3D needs width,height and channel."
      ]
    },
    {
      "cell_type": "code",
      "metadata": {
        "colab": {
          "base_uri": "https://localhost:8080/"
        },
        "id": "5jJ5A_cAkzSE",
        "outputId": "25573c4f-0daa-40d0-9b31-82836004822f"
      },
      "source": [
        "exp = np.expand_dims(exp, axis=0)\r\n",
        "\r\n",
        "exp.shape"
      ],
      "execution_count": 16,
      "outputs": [
        {
          "output_type": "execute_result",
          "data": {
            "text/plain": [
              "(1, 240, 240)"
            ]
          },
          "metadata": {
            "tags": []
          },
          "execution_count": 16
        }
      ]
    },
    {
      "cell_type": "markdown",
      "metadata": {
        "id": "4oMlZY2axOKP"
      },
      "source": [
        "seg images are converted into array and the labels are used to identify the tumor area."
      ]
    },
    {
      "cell_type": "code",
      "metadata": {
        "id": "eTBJIlX_x-_J"
      },
      "source": [
        "def seg_to_array(path, end, label):\r\n",
        "    \r\n",
        "    \r\n",
        "    files = glob(path+end, recursive=True)\r\n",
        "    \r\n",
        "    image_list = []\r\n",
        "    \r\n",
        "    r.seed(42)\r\n",
        "    r.shuffle(files)\r\n",
        "    \r\n",
        "    for file in files:\r\n",
        "        image = io.imread(file, plugin=\"simpleitk\")\r\n",
        "        \r\n",
        "        # all tumor\r\n",
        "        if label == 1:\r\n",
        "            image[image != 0] = 1\r\n",
        "        \r\n",
        "        # Non-enhancing Tumor\r\n",
        "        if label == 2:\r\n",
        "            image[image != 1] = 0\r\n",
        "        \r\n",
        "        # Without Edema\r\n",
        "        if label == 3:\r\n",
        "            image[image == 2] = 0\r\n",
        "            image[image != 0] = 1\r\n",
        "        \r\n",
        "        # Enhancing Tumor\r\n",
        "        if label == 4:\r\n",
        "            image[image != 4] = 0\r\n",
        "            image[image == 4] = 1\r\n",
        "            \r\n",
        "\r\n",
        "        image.astype(\"float32\")\r\n",
        "        \r\n",
        "        for slice in range(60, 130):\r\n",
        "            image_slice = image[slice,:,:]\r\n",
        "            \r\n",
        "            \r\n",
        "            image_slice = cv2.resize(image_slice, (128,128))\r\n",
        "            \r\n",
        "            image_slice = np.expand_dims(image_slice, axis=0)\r\n",
        "            image_list.append(image_slice)\r\n",
        "            \r\n",
        "    return np.array(image_list,np.float32)"
      ],
      "execution_count": 17,
      "outputs": []
    },
    {
      "cell_type": "code",
      "metadata": {
        "id": "iLRohOvOmpDS"
      },
      "source": [
        "seg_all_tumor = seg_to_array(path=path, end=\"**/*seg.nii.gz\", label=1)\r\n",
        "\r\n",
        "seg_non_enhancing = seg_to_array(path=path, end=\"**/*seg.nii.gz\", label=2)\r\n",
        "\r\n",
        "seg_out_edema = seg_to_array(path=path, end=\"**/*seg.nii.gz\", label=3) \r\n",
        "\r\n",
        "seg_enhancing = seg_to_array(path=path, end=\"**/*seg.nii.gz\", label=4) \r\n",
        "\r\n",
        "seg_original = seg_to_array(path=path, end=\"**/*seg.nii.gz\", label=0)"
      ],
      "execution_count": 18,
      "outputs": []
    },
    {
      "cell_type": "markdown",
      "metadata": {
        "id": "3b7mF20R0IvI"
      },
      "source": [
        "converting all flair and t2 images into array ."
      ]
    },
    {
      "cell_type": "code",
      "metadata": {
        "id": "NhMJ495Envpn"
      },
      "source": [
        "flair = to_array(path=path, end=\"**/*flair.nii.gz\")\r\n",
        "t2 = to_array(path=path, end=\"**/*t2.nii.gz\")\r\n",
        "seg = seg_to_array(path=path, end=\"**/*seg.nii.gz\", label=1)"
      ],
      "execution_count": 19,
      "outputs": []
    },
    {
      "cell_type": "markdown",
      "metadata": {
        "id": "JvC38EZS0Us-"
      },
      "source": [
        "combining the two images as one and printing their shapes."
      ]
    },
    {
      "cell_type": "code",
      "metadata": {
        "colab": {
          "base_uri": "https://localhost:8080/"
        },
        "id": "Rj9QytPGquYK",
        "outputId": "c029fba7-48c1-451b-905f-dbbf4993331e"
      },
      "source": [
        "X_train = np.concatenate((flair, t2), axis=1)\r\n",
        "X_train.shape"
      ],
      "execution_count": 24,
      "outputs": [
        {
          "output_type": "execute_result",
          "data": {
            "text/plain": [
              "(2240, 2, 128, 128)"
            ]
          },
          "metadata": {
            "tags": []
          },
          "execution_count": 24
        }
      ]
    },
    {
      "cell_type": "markdown",
      "metadata": {
        "id": "W7JUACqP0uQQ"
      },
      "source": [
        "to check accuracy in unet model dice coefficient is used, it gives us the difference of pixel. when we put images on top of each other and when the input and output are images the difference of pixels is needed."
      ]
    },
    {
      "cell_type": "code",
      "metadata": {
        "id": "O452hI9wq3LZ"
      },
      "source": [
        "def dice_coef(y_true, y_pred):\r\n",
        "    smooth = 0.005 \r\n",
        "    y_true_f = K.flatten(y_true)\r\n",
        "    y_pred_f = K.flatten(y_pred)\r\n",
        "    intersection = K.sum(y_true_f * y_pred_f)\r\n",
        "    return (2. * intersection + smooth) / (K.sum(y_true_f) + K.sum(y_pred_f) + smooth)\r\n",
        "\r\n",
        "\r\n",
        "def dice_coef_loss(y_true, y_pred):\r\n",
        "    return 1-dice_coef(y_true, y_pred)\r\n",
        "    \r\n",
        "\r\n",
        "K.set_image_data_format('channels_first')"
      ],
      "execution_count": 25,
      "outputs": []
    },
    {
      "cell_type": "markdown",
      "metadata": {
        "id": "4zt31ieZ1JWp"
      },
      "source": [
        "unet model is defined."
      ]
    },
    {
      "cell_type": "code",
      "metadata": {
        "id": "yrD9R_cy0DsM"
      },
      "source": [
        "def unet():\r\n",
        "    \r\n",
        "    inputs = Input((2, 128 , 128))\r\n",
        "    \r\n",
        "    conv1 = Conv2D(64, (3, 3), activation='relu', padding='same') (inputs)\r\n",
        "    batch1 = BatchNormalization(axis=1)(conv1)\r\n",
        "    conv1 = Conv2D(64, (3, 3), activation='relu', padding='same') (batch1)\r\n",
        "    batch1 = BatchNormalization(axis=1)(conv1)\r\n",
        "    pool1 = MaxPooling2D((2, 2))(batch1)\r\n",
        "    \r\n",
        "    conv2 = Conv2D(128, (3, 3), activation='relu', padding='same') (pool1)\r\n",
        "    batch2 = BatchNormalization(axis=1)(conv2)\r\n",
        "    conv2 = Conv2D(128, (3, 3), activation='relu', padding='same') (batch2)\r\n",
        "    batch2 = BatchNormalization(axis=1)(conv2)\r\n",
        "    pool2 = MaxPooling2D((2, 2))(batch2)\r\n",
        "    \r\n",
        "    conv3 = Conv2D(256, (3, 3), activation='relu', padding='same') (pool2)\r\n",
        "    batch3 = BatchNormalization(axis=1)(conv3)\r\n",
        "    conv3 = Conv2D(256, (3, 3), activation='relu', padding='same') (batch3)\r\n",
        "    batch3 = BatchNormalization(axis=1)(conv3)\r\n",
        "    pool3 = MaxPooling2D((2, 2))(batch3)\r\n",
        "    \r\n",
        "    conv4 = Conv2D(512, (3, 3), activation='relu', padding='same') (pool3)\r\n",
        "    batch4 = BatchNormalization(axis=1)(conv4)\r\n",
        "    conv4 = Conv2D(512, (3, 3), activation='relu', padding='same') (batch4)\r\n",
        "    batch4 = BatchNormalization(axis=1)(conv4)\r\n",
        "    pool4 = MaxPooling2D(pool_size=(2, 2))(batch4)\r\n",
        "    \r\n",
        "    conv5 = Conv2D(1024, (3, 3), activation='relu', padding='same') (pool4)\r\n",
        "    batch5 = BatchNormalization(axis=1)(conv5)\r\n",
        "    conv5 = Conv2D(1024, (3, 3), activation='relu', padding='same') (batch5)\r\n",
        "    batch5 = BatchNormalization(axis=1)(conv5)\r\n",
        "    \r\n",
        "    up6 = Conv2DTranspose(512, (2, 2), strides=(2, 2), padding='same') (batch5)\r\n",
        "    up6 = concatenate([up6, conv4], axis=1)\r\n",
        "    conv6 = Conv2D(512, (3, 3), activation='relu', padding='same') (up6)\r\n",
        "    batch6 = BatchNormalization(axis=1)(conv6)\r\n",
        "    conv6 = Conv2D(512, (3, 3), activation='relu', padding='same') (batch6)\r\n",
        "    batch6 = BatchNormalization(axis=1)(conv6)\r\n",
        "    \r\n",
        "    up7 = Conv2DTranspose(256, (2, 2), strides=(2, 2), padding='same') (batch6)\r\n",
        "    up7 = concatenate([up7, conv3], axis=1)\r\n",
        "    conv7 = Conv2D(256, (3, 3), activation='relu', padding='same') (up7)\r\n",
        "    batch7 = BatchNormalization(axis=1)(conv7)\r\n",
        "    conv7 = Conv2D(256, (3, 3), activation='relu', padding='same') (batch7)\r\n",
        "    batch7 = BatchNormalization(axis=1)(conv7)\r\n",
        "    \r\n",
        "    up8 = Conv2DTranspose(128, (2, 2), strides=(2, 2), padding='same') (batch7)\r\n",
        "    up8 = concatenate([up8, conv2], axis=1)\r\n",
        "    conv8 = Conv2D(128, (3, 3), activation='relu', padding='same') (up8)\r\n",
        "    batch8 = BatchNormalization(axis=1)(conv8)\r\n",
        "    conv8 = Conv2D(128, (3, 3), activation='relu', padding='same') (batch8)\r\n",
        "    batch8 = BatchNormalization(axis=1)(conv8)\r\n",
        "    \r\n",
        "    up9 = Conv2DTranspose(64, (2, 2), strides=(2, 2), padding='same') (batch8)\r\n",
        "    up9 = concatenate([up9, conv1], axis=1)\r\n",
        "    conv9 = Conv2D(64, (3, 3), activation='relu', padding='same') (up9)\r\n",
        "    batch9 = BatchNormalization(axis=1)(conv9)\r\n",
        "    conv9 = Conv2D(64, (3, 3), activation='relu', padding='same') (batch9)\r\n",
        "    batch9 = BatchNormalization(axis=1)(conv9)\r\n",
        "\r\n",
        "    conv10 = Conv2D(1, (1, 1), activation='sigmoid')(batch9)\r\n",
        "\r\n",
        "    model = Model(inputs=[inputs], outputs=[conv10])\r\n",
        "\r\n",
        "    model.compile(optimizer=Adam(lr=1e-4), loss=dice_coef_loss, metrics=[dice_coef])\r\n",
        "\r\n",
        "    return model"
      ],
      "execution_count": 26,
      "outputs": []
    },
    {
      "cell_type": "markdown",
      "metadata": {
        "id": "bnHvYGNA62i4"
      },
      "source": [
        "summary of the model"
      ]
    },
    {
      "cell_type": "code",
      "metadata": {
        "colab": {
          "base_uri": "https://localhost:8080/"
        },
        "id": "K_tMZMev908M",
        "outputId": "5499a886-91d4-4800-fd5e-20525e6323d3"
      },
      "source": [
        "model.summary()"
      ],
      "execution_count": 59,
      "outputs": [
        {
          "output_type": "stream",
          "text": [
            "Model: \"model\"\n",
            "__________________________________________________________________________________________________\n",
            "Layer (type)                    Output Shape         Param #     Connected to                     \n",
            "==================================================================================================\n",
            "input_1 (InputLayer)            [(None, 2, 128, 128) 0                                            \n",
            "__________________________________________________________________________________________________\n",
            "conv2d (Conv2D)                 (None, 64, 128, 128) 1216        input_1[0][0]                    \n",
            "__________________________________________________________________________________________________\n",
            "batch_normalization (BatchNorma (None, 64, 128, 128) 256         conv2d[0][0]                     \n",
            "__________________________________________________________________________________________________\n",
            "conv2d_1 (Conv2D)               (None, 64, 128, 128) 36928       batch_normalization[0][0]        \n",
            "__________________________________________________________________________________________________\n",
            "batch_normalization_1 (BatchNor (None, 64, 128, 128) 256         conv2d_1[0][0]                   \n",
            "__________________________________________________________________________________________________\n",
            "max_pooling2d (MaxPooling2D)    (None, 64, 64, 64)   0           batch_normalization_1[0][0]      \n",
            "__________________________________________________________________________________________________\n",
            "conv2d_2 (Conv2D)               (None, 128, 64, 64)  73856       max_pooling2d[0][0]              \n",
            "__________________________________________________________________________________________________\n",
            "batch_normalization_2 (BatchNor (None, 128, 64, 64)  512         conv2d_2[0][0]                   \n",
            "__________________________________________________________________________________________________\n",
            "conv2d_3 (Conv2D)               (None, 128, 64, 64)  147584      batch_normalization_2[0][0]      \n",
            "__________________________________________________________________________________________________\n",
            "batch_normalization_3 (BatchNor (None, 128, 64, 64)  512         conv2d_3[0][0]                   \n",
            "__________________________________________________________________________________________________\n",
            "max_pooling2d_1 (MaxPooling2D)  (None, 128, 32, 32)  0           batch_normalization_3[0][0]      \n",
            "__________________________________________________________________________________________________\n",
            "conv2d_4 (Conv2D)               (None, 256, 32, 32)  295168      max_pooling2d_1[0][0]            \n",
            "__________________________________________________________________________________________________\n",
            "batch_normalization_4 (BatchNor (None, 256, 32, 32)  1024        conv2d_4[0][0]                   \n",
            "__________________________________________________________________________________________________\n",
            "conv2d_5 (Conv2D)               (None, 256, 32, 32)  590080      batch_normalization_4[0][0]      \n",
            "__________________________________________________________________________________________________\n",
            "batch_normalization_5 (BatchNor (None, 256, 32, 32)  1024        conv2d_5[0][0]                   \n",
            "__________________________________________________________________________________________________\n",
            "max_pooling2d_2 (MaxPooling2D)  (None, 256, 16, 16)  0           batch_normalization_5[0][0]      \n",
            "__________________________________________________________________________________________________\n",
            "conv2d_6 (Conv2D)               (None, 512, 16, 16)  1180160     max_pooling2d_2[0][0]            \n",
            "__________________________________________________________________________________________________\n",
            "batch_normalization_6 (BatchNor (None, 512, 16, 16)  2048        conv2d_6[0][0]                   \n",
            "__________________________________________________________________________________________________\n",
            "conv2d_7 (Conv2D)               (None, 512, 16, 16)  2359808     batch_normalization_6[0][0]      \n",
            "__________________________________________________________________________________________________\n",
            "batch_normalization_7 (BatchNor (None, 512, 16, 16)  2048        conv2d_7[0][0]                   \n",
            "__________________________________________________________________________________________________\n",
            "max_pooling2d_3 (MaxPooling2D)  (None, 512, 8, 8)    0           batch_normalization_7[0][0]      \n",
            "__________________________________________________________________________________________________\n",
            "conv2d_8 (Conv2D)               (None, 1024, 8, 8)   4719616     max_pooling2d_3[0][0]            \n",
            "__________________________________________________________________________________________________\n",
            "batch_normalization_8 (BatchNor (None, 1024, 8, 8)   4096        conv2d_8[0][0]                   \n",
            "__________________________________________________________________________________________________\n",
            "conv2d_9 (Conv2D)               (None, 1024, 8, 8)   9438208     batch_normalization_8[0][0]      \n",
            "__________________________________________________________________________________________________\n",
            "batch_normalization_9 (BatchNor (None, 1024, 8, 8)   4096        conv2d_9[0][0]                   \n",
            "__________________________________________________________________________________________________\n",
            "conv2d_transpose (Conv2DTranspo (None, 512, 16, 16)  2097664     batch_normalization_9[0][0]      \n",
            "__________________________________________________________________________________________________\n",
            "concatenate (Concatenate)       (None, 1024, 16, 16) 0           conv2d_transpose[0][0]           \n",
            "                                                                 conv2d_7[0][0]                   \n",
            "__________________________________________________________________________________________________\n",
            "conv2d_10 (Conv2D)              (None, 512, 16, 16)  4719104     concatenate[0][0]                \n",
            "__________________________________________________________________________________________________\n",
            "batch_normalization_10 (BatchNo (None, 512, 16, 16)  2048        conv2d_10[0][0]                  \n",
            "__________________________________________________________________________________________________\n",
            "conv2d_11 (Conv2D)              (None, 512, 16, 16)  2359808     batch_normalization_10[0][0]     \n",
            "__________________________________________________________________________________________________\n",
            "batch_normalization_11 (BatchNo (None, 512, 16, 16)  2048        conv2d_11[0][0]                  \n",
            "__________________________________________________________________________________________________\n",
            "conv2d_transpose_1 (Conv2DTrans (None, 256, 32, 32)  524544      batch_normalization_11[0][0]     \n",
            "__________________________________________________________________________________________________\n",
            "concatenate_1 (Concatenate)     (None, 512, 32, 32)  0           conv2d_transpose_1[0][0]         \n",
            "                                                                 conv2d_5[0][0]                   \n",
            "__________________________________________________________________________________________________\n",
            "conv2d_12 (Conv2D)              (None, 256, 32, 32)  1179904     concatenate_1[0][0]              \n",
            "__________________________________________________________________________________________________\n",
            "batch_normalization_12 (BatchNo (None, 256, 32, 32)  1024        conv2d_12[0][0]                  \n",
            "__________________________________________________________________________________________________\n",
            "conv2d_13 (Conv2D)              (None, 256, 32, 32)  590080      batch_normalization_12[0][0]     \n",
            "__________________________________________________________________________________________________\n",
            "batch_normalization_13 (BatchNo (None, 256, 32, 32)  1024        conv2d_13[0][0]                  \n",
            "__________________________________________________________________________________________________\n",
            "conv2d_transpose_2 (Conv2DTrans (None, 128, 64, 64)  131200      batch_normalization_13[0][0]     \n",
            "__________________________________________________________________________________________________\n",
            "concatenate_2 (Concatenate)     (None, 256, 64, 64)  0           conv2d_transpose_2[0][0]         \n",
            "                                                                 conv2d_3[0][0]                   \n",
            "__________________________________________________________________________________________________\n",
            "conv2d_14 (Conv2D)              (None, 128, 64, 64)  295040      concatenate_2[0][0]              \n",
            "__________________________________________________________________________________________________\n",
            "batch_normalization_14 (BatchNo (None, 128, 64, 64)  512         conv2d_14[0][0]                  \n",
            "__________________________________________________________________________________________________\n",
            "conv2d_15 (Conv2D)              (None, 128, 64, 64)  147584      batch_normalization_14[0][0]     \n",
            "__________________________________________________________________________________________________\n",
            "batch_normalization_15 (BatchNo (None, 128, 64, 64)  512         conv2d_15[0][0]                  \n",
            "__________________________________________________________________________________________________\n",
            "conv2d_transpose_3 (Conv2DTrans (None, 64, 128, 128) 32832       batch_normalization_15[0][0]     \n",
            "__________________________________________________________________________________________________\n",
            "concatenate_3 (Concatenate)     (None, 128, 128, 128 0           conv2d_transpose_3[0][0]         \n",
            "                                                                 conv2d_1[0][0]                   \n",
            "__________________________________________________________________________________________________\n",
            "conv2d_16 (Conv2D)              (None, 64, 128, 128) 73792       concatenate_3[0][0]              \n",
            "__________________________________________________________________________________________________\n",
            "batch_normalization_16 (BatchNo (None, 64, 128, 128) 256         conv2d_16[0][0]                  \n",
            "__________________________________________________________________________________________________\n",
            "conv2d_17 (Conv2D)              (None, 64, 128, 128) 36928       batch_normalization_16[0][0]     \n",
            "__________________________________________________________________________________________________\n",
            "batch_normalization_17 (BatchNo (None, 64, 128, 128) 256         conv2d_17[0][0]                  \n",
            "__________________________________________________________________________________________________\n",
            "conv2d_18 (Conv2D)              (None, 1, 128, 128)  65          batch_normalization_17[0][0]     \n",
            "==================================================================================================\n",
            "Total params: 31,054,721\n",
            "Trainable params: 31,042,945\n",
            "Non-trainable params: 11,776\n",
            "__________________________________________________________________________________________________\n"
          ],
          "name": "stdout"
        }
      ]
    },
    {
      "cell_type": "code",
      "metadata": {
        "id": "QuKufuzX1aNy"
      },
      "source": [
        "model = unet()"
      ],
      "execution_count": 27,
      "outputs": []
    },
    {
      "cell_type": "markdown",
      "metadata": {
        "id": "oZoDSZhx7MiO"
      },
      "source": [
        "the model is trained for 30 epoch."
      ]
    },
    {
      "cell_type": "code",
      "metadata": {
        "colab": {
          "base_uri": "https://localhost:8080/"
        },
        "id": "F3F5uVcP1bQz",
        "outputId": "5ae108cb-882d-43f5-9b8c-ce173ec7adca"
      },
      "source": [
        "model.fit(X_train, seg, validation_split=0.25, batch_size=32, epochs=30, shuffle=True)"
      ],
      "execution_count": 28,
      "outputs": [
        {
          "output_type": "stream",
          "text": [
            "Epoch 1/30\n",
            "53/53 [==============================] - 72s 539ms/step - loss: 0.8834 - dice_coef: 0.1166 - val_loss: 0.9567 - val_dice_coef: 0.0421\n",
            "Epoch 2/30\n",
            "53/53 [==============================] - 23s 431ms/step - loss: 0.8047 - dice_coef: 0.1953 - val_loss: 0.9351 - val_dice_coef: 0.0631\n",
            "Epoch 3/30\n",
            "53/53 [==============================] - 24s 452ms/step - loss: 0.7412 - dice_coef: 0.2588 - val_loss: 0.9283 - val_dice_coef: 0.0697\n",
            "Epoch 4/30\n",
            "53/53 [==============================] - 24s 457ms/step - loss: 0.7134 - dice_coef: 0.2866 - val_loss: 0.9238 - val_dice_coef: 0.0741\n",
            "Epoch 5/30\n",
            "53/53 [==============================] - 23s 444ms/step - loss: 0.6842 - dice_coef: 0.3158 - val_loss: 0.9339 - val_dice_coef: 0.0642\n",
            "Epoch 6/30\n",
            "53/53 [==============================] - 23s 443ms/step - loss: 0.6411 - dice_coef: 0.3589 - val_loss: 0.9224 - val_dice_coef: 0.0754\n",
            "Epoch 7/30\n",
            "53/53 [==============================] - 24s 446ms/step - loss: 0.6301 - dice_coef: 0.3699 - val_loss: 0.9266 - val_dice_coef: 0.0714\n",
            "Epoch 8/30\n",
            "53/53 [==============================] - 24s 447ms/step - loss: 0.5692 - dice_coef: 0.4308 - val_loss: 0.9003 - val_dice_coef: 0.0969\n",
            "Epoch 9/30\n",
            "53/53 [==============================] - 24s 446ms/step - loss: 0.5529 - dice_coef: 0.4471 - val_loss: 0.7192 - val_dice_coef: 0.2730\n",
            "Epoch 10/30\n",
            "53/53 [==============================] - 24s 445ms/step - loss: 0.5156 - dice_coef: 0.4844 - val_loss: 0.8232 - val_dice_coef: 0.1719\n",
            "Epoch 11/30\n",
            "53/53 [==============================] - 24s 446ms/step - loss: 0.4672 - dice_coef: 0.5328 - val_loss: 0.5811 - val_dice_coef: 0.4073\n",
            "Epoch 12/30\n",
            "53/53 [==============================] - 24s 446ms/step - loss: 0.4313 - dice_coef: 0.5688 - val_loss: 0.5859 - val_dice_coef: 0.4026\n",
            "Epoch 13/30\n",
            "53/53 [==============================] - 24s 446ms/step - loss: 0.3925 - dice_coef: 0.6075 - val_loss: 0.6026 - val_dice_coef: 0.3864\n",
            "Epoch 14/30\n",
            "53/53 [==============================] - 24s 445ms/step - loss: 0.3666 - dice_coef: 0.6334 - val_loss: 0.4377 - val_dice_coef: 0.5467\n",
            "Epoch 15/30\n",
            "53/53 [==============================] - 24s 445ms/step - loss: 0.3300 - dice_coef: 0.6700 - val_loss: 0.4220 - val_dice_coef: 0.5620\n",
            "Epoch 16/30\n",
            "53/53 [==============================] - 24s 446ms/step - loss: 0.3089 - dice_coef: 0.6911 - val_loss: 0.4967 - val_dice_coef: 0.4893\n",
            "Epoch 17/30\n",
            "53/53 [==============================] - 24s 445ms/step - loss: 0.2545 - dice_coef: 0.7456 - val_loss: 0.4818 - val_dice_coef: 0.5038\n",
            "Epoch 18/30\n",
            "53/53 [==============================] - 24s 445ms/step - loss: 0.2496 - dice_coef: 0.7504 - val_loss: 0.4527 - val_dice_coef: 0.5321\n",
            "Epoch 19/30\n",
            "53/53 [==============================] - 24s 446ms/step - loss: 0.2085 - dice_coef: 0.7915 - val_loss: 0.4532 - val_dice_coef: 0.5316\n",
            "Epoch 20/30\n",
            "53/53 [==============================] - 24s 446ms/step - loss: 0.2086 - dice_coef: 0.7915 - val_loss: 0.5403 - val_dice_coef: 0.4469\n",
            "Epoch 21/30\n",
            "53/53 [==============================] - 24s 445ms/step - loss: 0.1953 - dice_coef: 0.8047 - val_loss: 0.4900 - val_dice_coef: 0.4958\n",
            "Epoch 22/30\n",
            "53/53 [==============================] - 24s 445ms/step - loss: 0.1621 - dice_coef: 0.8379 - val_loss: 0.4368 - val_dice_coef: 0.5475\n",
            "Epoch 23/30\n",
            "53/53 [==============================] - 24s 446ms/step - loss: 0.1534 - dice_coef: 0.8466 - val_loss: 0.4678 - val_dice_coef: 0.5174\n",
            "Epoch 24/30\n",
            "53/53 [==============================] - 24s 445ms/step - loss: 0.1515 - dice_coef: 0.8485 - val_loss: 0.4232 - val_dice_coef: 0.5608\n",
            "Epoch 25/30\n",
            "53/53 [==============================] - 24s 444ms/step - loss: 0.1334 - dice_coef: 0.8665 - val_loss: 0.4397 - val_dice_coef: 0.5447\n",
            "Epoch 26/30\n",
            "53/53 [==============================] - 24s 445ms/step - loss: 0.1330 - dice_coef: 0.8670 - val_loss: 0.4515 - val_dice_coef: 0.5333\n",
            "Epoch 27/30\n",
            "53/53 [==============================] - 24s 445ms/step - loss: 0.1232 - dice_coef: 0.8768 - val_loss: 0.4440 - val_dice_coef: 0.5406\n",
            "Epoch 28/30\n",
            "53/53 [==============================] - 24s 445ms/step - loss: 0.1077 - dice_coef: 0.8924 - val_loss: 0.4850 - val_dice_coef: 0.5007\n",
            "Epoch 29/30\n",
            "53/53 [==============================] - 24s 445ms/step - loss: 0.0991 - dice_coef: 0.9008 - val_loss: 0.4663 - val_dice_coef: 0.5188\n",
            "Epoch 30/30\n",
            "53/53 [==============================] - 24s 445ms/step - loss: 0.0953 - dice_coef: 0.9046 - val_loss: 0.4760 - val_dice_coef: 0.5095\n"
          ],
          "name": "stdout"
        },
        {
          "output_type": "execute_result",
          "data": {
            "text/plain": [
              "<tensorflow.python.keras.callbacks.History at 0x7f637068d750>"
            ]
          },
          "metadata": {
            "tags": []
          },
          "execution_count": 28
        }
      ]
    },
    {
      "cell_type": "code",
      "metadata": {
        "id": "5GX79WyF22aU"
      },
      "source": [
        "x = np.zeros((1,2,128,128),np.float32)\r\n",
        "x[:,:1,:,:] = flair[89:90,:,:,:]   \r\n",
        "x[:,1:,:,:] = t2[89:90,:,:,:] \r\n",
        "\r\n",
        "pred_full = model.predict(x)"
      ],
      "execution_count": 31,
      "outputs": []
    },
    {
      "cell_type": "markdown",
      "metadata": {
        "id": "dV4FVXCm7gWM"
      },
      "source": [
        "the input is passed and predicted , the images are plotted."
      ]
    },
    {
      "cell_type": "code",
      "metadata": {
        "colab": {
          "base_uri": "https://localhost:8080/",
          "height": 229
        },
        "id": "RTpfvpcE4vm5",
        "outputId": "c39fd062-9fd2-4ff5-d343-0064e9095129"
      },
      "source": [
        "\r\n",
        "plt.figure(figsize=(15,10))\r\n",
        "\r\n",
        "plt.subplot(141)\r\n",
        "plt.title('T2')\r\n",
        "plt.axis('off')\r\n",
        "plt.imshow(t2[90, 0, :, :],cmap='gray')\r\n",
        "    \r\n",
        "plt.subplot(142)\r\n",
        "plt.title('Flair')\r\n",
        "plt.axis('off')\r\n",
        "plt.imshow(flair[90, 0, :, :],cmap='gray')\r\n",
        "\r\n",
        "plt.subplot(143)\r\n",
        "plt.title('Ground Truth(full)')\r\n",
        "plt.axis('off')\r\n",
        "plt.imshow(seg[90, 0, :, :],cmap='gray')\r\n",
        "\r\n",
        "plt.subplot(144)\r\n",
        "plt.title('prediction(full)')\r\n",
        "plt.axis('off')\r\n",
        "plt.imshow(pred_full[0, 0, :, :],cmap='gray')\r\n",
        "\r\n",
        "plt.show()"
      ],
      "execution_count": 33,
      "outputs": [
        {
          "output_type": "display_data",
          "data": {
            "image/png": "[encoded data removed]",
            "text/plain": [
              "<Figure size 1080x720 with 4 Axes>"
            ]
          },
          "metadata": {
            "tags": [],
            "needs_background": "light"
          }
        }
      ]
    },
    {
      "cell_type": "markdown",
      "metadata": {
        "id": "SSfy9MaB7YqX"
      },
      "source": [
        "the model is saved."
      ]
    },
    {
      "cell_type": "code",
      "metadata": {
        "id": "5y_i3PeA5P6E"
      },
      "source": [
        "model.save_weights(\"/content/drive/MyDrive/Brats/subset_model.h5\")"
      ],
      "execution_count": 34,
      "outputs": []
    },
    {
      "cell_type": "code",
      "metadata": {
        "id": "9kLi-Caw5dc_"
      },
      "source": [
        "def crop_tumor_tissue(x, pred, size):   \r\n",
        "    crop_x = []\r\n",
        "    list_xy = []\r\n",
        "    p_tmp = pred[0,:,:]\r\n",
        "    p_tmp[p_tmp>0.2] = 1    \r\n",
        "    p_tmp[p_tmp !=1] = 0\r\n",
        "    \r\n",
        "    index_xy = np.where(p_tmp==1)   \r\n",
        "\r\n",
        "    if index_xy[0].shape[0] == 0:   \r\n",
        "        return [],[]  \r\n",
        "    center_x = (max(index_xy[0]) + min(index_xy[0])) / 2 \r\n",
        "    center_y = (max(index_xy[1]) + min(index_xy[1])) / 2 \r\n",
        "    \r\n",
        "    if center_x >= 176:\r\n",
        "            center_x = center_x-8   \r\n",
        "    length = max(index_xy[0]) - min(index_xy[0])\r\n",
        "    width = max(index_xy[1]) - min(index_xy[1])\r\n",
        "        \r\n",
        "    if width <= 64 and length <= 64:  \r\n",
        "        img_x = np.zeros((1,size,size),np.float32)\r\n",
        "        img_x[:,:,:] = x[:,int(center_x - size/2) : int(center_x + size/2),int(center_y - size/2) : int(center_y + size/2)]\r\n",
        "        crop_x.append(img_x) \r\n",
        "        list_xy.append((int(center_x - size/2),int(center_y - size/2)))\r\n",
        "            \r\n",
        "    if width > 64 and length <= 64:  \r\n",
        "        img_x = np.zeros((1,size,size),np.float32)\r\n",
        "        img_x[:,:,:] = x[:,int(center_x - size/2) : int(center_x + size/2),int(center_y - size) : int(center_y)]\r\n",
        "        crop_x.append(img_x)\r\n",
        "        list_xy.append((int(center_x - size/2),int(center_y - size)))\r\n",
        "            \r\n",
        "        img_x = np.zeros((1,size,size),np.float32)\r\n",
        "        img_x[:,:,:] = x[:,int(center_x - size/2) : int(center_x + size/2),int(center_y + 1) : int(center_y + size + 1)]\r\n",
        "        crop_x.append(img_x)\r\n",
        "        list_xy.append((int(center_x - size/2),int(center_y)))\r\n",
        "            \r\n",
        "    if width <= 64 and length > 64:         \r\n",
        "        img_x = np.zeros((1,size,size),np.float32)\r\n",
        "        img_x[:,:,:] = x[:,int(center_x - size) : int(center_x),int(center_y - size/2) : int(center_y + size/2)]\r\n",
        "        crop_x.append(img_x)\r\n",
        "        list_xy.append((int(center_x - size),int(center_y - size/2)))\r\n",
        "            \r\n",
        "        img_x = np.zeros((1,size,size),np.float32)\r\n",
        "        img_x[:,:,:] = x[:,int(center_x + 1) : int(center_x + size + 1),int(center_y - size/2) : int(center_y + size/2)]\r\n",
        "        crop_x.append(img_x)\r\n",
        "        list_xy.append((int(center_x),int(center_y - size/2)))\r\n",
        "            \r\n",
        "    if width > 64 and length > 64:  \r\n",
        "        img_x = np.zeros((1,size,size),np.float32)\r\n",
        "        img_x[:,:,:] = x[:,int(center_x - size) : int(center_x),int(center_y - size) : int(center_y)]\r\n",
        "        crop_x.append(img_x)\r\n",
        "        list_xy.append((int(center_x - size),int(center_y - size)))\r\n",
        "            \r\n",
        "        img_x = np.zeros((1,size,size),np.float32)\r\n",
        "        img_x[:,:,:] = x[:,int(center_x + 1) : int(center_x + size + 1),int(center_y - size) : int(center_y)]\r\n",
        "        crop_x.append(img_x)\r\n",
        "        list_xy.append((int(center_x),int(center_y - size)))\r\n",
        "            \r\n",
        "        img_x = np.zeros((1,size,size),np.float32)\r\n",
        "        img_x[:,:,:] = x[:,int(center_x - size) : int(center_x),int(center_y + 1) : int(center_y + size + 1)]\r\n",
        "        crop_x.append(img_x)\r\n",
        "        list_xy.append((int(center_x - size),int(center_y)))\r\n",
        "            \r\n",
        "        img_x = np.zeros((1,size,size),np.float32)\r\n",
        "        img_x[:,:,:] = x[:,int(center_x + 1) : int(center_x + size + 1),int(center_y + 1) : int(center_y + size + 1)]\r\n",
        "        crop_x.append(img_x)\r\n",
        "        list_xy.append((int(center_x),int(center_y)))\r\n",
        "        \r\n",
        "    \r\n",
        "        \r\n",
        "    return np.array(crop_x) , list_xy   "
      ],
      "execution_count": 35,
      "outputs": []
    },
    {
      "cell_type": "code",
      "metadata": {
        "id": "qi7yMbYz5-g5"
      },
      "source": [
        "t1ce = to_array(path=path, end=\"**/*t1ce.nii.gz\")\r\n",
        "t1 = to_array(path=path, end=\"**/*t1.nii.gz\")"
      ],
      "execution_count": 39,
      "outputs": []
    },
    {
      "cell_type": "code",
      "metadata": {
        "id": "Iu9PU5HmEKfo"
      },
      "source": [
        "the t1ce image is passed as an input and the image is cropped as per the center point of full tumor segmentation."
      ],
      "execution_count": null,
      "outputs": []
    },
    {
      "cell_type": "code",
      "metadata": {
        "id": "OhOVJdh05ir2"
      },
      "source": [
        "crop , li = crop_tumor_tissue(t1ce[90,:,:,:],pred_full[0,:,:,:],64)"
      ],
      "execution_count": 40,
      "outputs": []
    },
    {
      "cell_type": "code",
      "metadata": {
        "colab": {
          "base_uri": "https://localhost:8080/"
        },
        "id": "IBPGxoGF6Wym",
        "outputId": "f3a35e7f-6559-4ad1-dbe5-ef88cb15cbcd"
      },
      "source": [
        "crop.shape[0]"
      ],
      "execution_count": 41,
      "outputs": [
        {
          "output_type": "execute_result",
          "data": {
            "text/plain": [
              "1"
            ]
          },
          "metadata": {
            "tags": []
          },
          "execution_count": 41
        }
      ]
    },
    {
      "cell_type": "markdown",
      "metadata": {
        "id": "xOXOfqVdEoGr"
      },
      "source": [
        "another u net is defined"
      ]
    },
    {
      "cell_type": "code",
      "metadata": {
        "id": "rd1qoqtT22Py"
      },
      "source": [
        "def unet_1():\r\n",
        "    \r\n",
        "    inputs = Input((1, 64 , 64))\r\n",
        "    \r\n",
        "    conv1 = Conv2D(64, (3, 3), activation='relu', padding='same') (inputs)\r\n",
        "    batch1 = BatchNormalization(axis=1)(conv1)\r\n",
        "    conv1 = Conv2D(64, (3, 3), activation='relu', padding='same') (batch1)\r\n",
        "    batch1 = BatchNormalization(axis=1)(conv1)\r\n",
        "    pool1 = MaxPooling2D((2, 2))(batch1)\r\n",
        "    \r\n",
        "    conv2 = Conv2D(128, (3, 3), activation='relu', padding='same') (pool1)\r\n",
        "    batch2 = BatchNormalization(axis=1)(conv2)\r\n",
        "    conv2 = Conv2D(128, (3, 3), activation='relu', padding='same') (batch2)\r\n",
        "    batch2 = BatchNormalization(axis=1)(conv2)\r\n",
        "    pool2 = MaxPooling2D((2, 2))(batch2)\r\n",
        "    \r\n",
        "    conv3 = Conv2D(256, (3, 3), activation='relu', padding='same') (pool2)\r\n",
        "    batch3 = BatchNormalization(axis=1)(conv3)\r\n",
        "    conv3 = Conv2D(256, (3, 3), activation='relu', padding='same') (batch3)\r\n",
        "    batch3 = BatchNormalization(axis=1)(conv3)\r\n",
        "    pool3 = MaxPooling2D((2, 2))(batch3)\r\n",
        "    \r\n",
        "    conv4 = Conv2D(512, (3, 3), activation='relu', padding='same') (pool3)\r\n",
        "    batch4 = BatchNormalization(axis=1)(conv4)\r\n",
        "    conv4 = Conv2D(512, (3, 3), activation='relu', padding='same') (batch4)\r\n",
        "    batch4 = BatchNormalization(axis=1)(conv4)\r\n",
        "    pool4 = MaxPooling2D(pool_size=(2, 2))(batch4)\r\n",
        "    \r\n",
        "    conv5 = Conv2D(1024, (3, 3), activation='relu', padding='same') (pool4)\r\n",
        "    batch5 = BatchNormalization(axis=1)(conv5)\r\n",
        "    conv5 = Conv2D(1024, (3, 3), activation='relu', padding='same') (batch5)\r\n",
        "    batch5 = BatchNormalization(axis=1)(conv5)\r\n",
        "    \r\n",
        "    up6 = Conv2DTranspose(512, (2, 2), strides=(2, 2), padding='same') (batch5)\r\n",
        "    up6 = concatenate([up6, conv4], axis=1)\r\n",
        "    conv6 = Conv2D(512, (3, 3), activation='relu', padding='same') (up6)\r\n",
        "    batch6 = BatchNormalization(axis=1)(conv6)\r\n",
        "    conv6 = Conv2D(512, (3, 3), activation='relu', padding='same') (batch6)\r\n",
        "    batch6 = BatchNormalization(axis=1)(conv6)\r\n",
        "    \r\n",
        "    up7 = Conv2DTranspose(256, (2, 2), strides=(2, 2), padding='same') (batch6)\r\n",
        "    up7 = concatenate([up7, conv3], axis=1)\r\n",
        "    conv7 = Conv2D(256, (3, 3), activation='relu', padding='same') (up7)\r\n",
        "    batch7 = BatchNormalization(axis=1)(conv7)\r\n",
        "    conv7 = Conv2D(256, (3, 3), activation='relu', padding='same') (batch7)\r\n",
        "    batch7 = BatchNormalization(axis=1)(conv7)\r\n",
        "    \r\n",
        "    up8 = Conv2DTranspose(128, (2, 2), strides=(2, 2), padding='same') (batch7)\r\n",
        "    up8 = concatenate([up8, conv2], axis=1)\r\n",
        "    conv8 = Conv2D(128, (3, 3), activation='relu', padding='same') (up8)\r\n",
        "    batch8 = BatchNormalization(axis=1)(conv8)\r\n",
        "    conv8 = Conv2D(128, (3, 3), activation='relu', padding='same') (batch8)\r\n",
        "    batch8 = BatchNormalization(axis=1)(conv8)\r\n",
        "    \r\n",
        "    up9 = Conv2DTranspose(64, (2, 2), strides=(2, 2), padding='same') (batch8)\r\n",
        "    up9 = concatenate([up9, conv1], axis=1)\r\n",
        "    conv9 = Conv2D(64, (3, 3), activation='relu', padding='same') (up9)\r\n",
        "    batch9 = BatchNormalization(axis=1)(conv9)\r\n",
        "    conv9 = Conv2D(64, (3, 3), activation='relu', padding='same') (batch9)\r\n",
        "    batch9 = BatchNormalization(axis=1)(conv9)\r\n",
        "\r\n",
        "    conv10 = Conv2D(1, (1, 1), activation='sigmoid')(batch9)\r\n",
        "\r\n",
        "    model = Model(inputs=[inputs], outputs=[conv10])\r\n",
        "\r\n",
        "    model.compile(optimizer=Adam(lr=1e-4), loss=dice_coef_loss, metrics=[dice_coef])\r\n",
        "\r\n",
        "    return model"
      ],
      "execution_count": 43,
      "outputs": []
    },
    {
      "cell_type": "code",
      "metadata": {
        "colab": {
          "base_uri": "https://localhost:8080/"
        },
        "id": "VE9nYGUn7A1J",
        "outputId": "106be327-dbd7-4a8a-c42a-d525ad0f1ccc"
      },
      "source": [
        "model.summary()"
      ],
      "execution_count": 45,
      "outputs": [
        {
          "output_type": "stream",
          "text": [
            "Model: \"model\"\n",
            "__________________________________________________________________________________________________\n",
            "Layer (type)                    Output Shape         Param #     Connected to                     \n",
            "==================================================================================================\n",
            "input_1 (InputLayer)            [(None, 2, 128, 128) 0                                            \n",
            "__________________________________________________________________________________________________\n",
            "conv2d (Conv2D)                 (None, 64, 128, 128) 1216        input_1[0][0]                    \n",
            "__________________________________________________________________________________________________\n",
            "batch_normalization (BatchNorma (None, 64, 128, 128) 256         conv2d[0][0]                     \n",
            "__________________________________________________________________________________________________\n",
            "conv2d_1 (Conv2D)               (None, 64, 128, 128) 36928       batch_normalization[0][0]        \n",
            "__________________________________________________________________________________________________\n",
            "batch_normalization_1 (BatchNor (None, 64, 128, 128) 256         conv2d_1[0][0]                   \n",
            "__________________________________________________________________________________________________\n",
            "max_pooling2d (MaxPooling2D)    (None, 64, 64, 64)   0           batch_normalization_1[0][0]      \n",
            "__________________________________________________________________________________________________\n",
            "conv2d_2 (Conv2D)               (None, 128, 64, 64)  73856       max_pooling2d[0][0]              \n",
            "__________________________________________________________________________________________________\n",
            "batch_normalization_2 (BatchNor (None, 128, 64, 64)  512         conv2d_2[0][0]                   \n",
            "__________________________________________________________________________________________________\n",
            "conv2d_3 (Conv2D)               (None, 128, 64, 64)  147584      batch_normalization_2[0][0]      \n",
            "__________________________________________________________________________________________________\n",
            "batch_normalization_3 (BatchNor (None, 128, 64, 64)  512         conv2d_3[0][0]                   \n",
            "__________________________________________________________________________________________________\n",
            "max_pooling2d_1 (MaxPooling2D)  (None, 128, 32, 32)  0           batch_normalization_3[0][0]      \n",
            "__________________________________________________________________________________________________\n",
            "conv2d_4 (Conv2D)               (None, 256, 32, 32)  295168      max_pooling2d_1[0][0]            \n",
            "__________________________________________________________________________________________________\n",
            "batch_normalization_4 (BatchNor (None, 256, 32, 32)  1024        conv2d_4[0][0]                   \n",
            "__________________________________________________________________________________________________\n",
            "conv2d_5 (Conv2D)               (None, 256, 32, 32)  590080      batch_normalization_4[0][0]      \n",
            "__________________________________________________________________________________________________\n",
            "batch_normalization_5 (BatchNor (None, 256, 32, 32)  1024        conv2d_5[0][0]                   \n",
            "__________________________________________________________________________________________________\n",
            "max_pooling2d_2 (MaxPooling2D)  (None, 256, 16, 16)  0           batch_normalization_5[0][0]      \n",
            "__________________________________________________________________________________________________\n",
            "conv2d_6 (Conv2D)               (None, 512, 16, 16)  1180160     max_pooling2d_2[0][0]            \n",
            "__________________________________________________________________________________________________\n",
            "batch_normalization_6 (BatchNor (None, 512, 16, 16)  2048        conv2d_6[0][0]                   \n",
            "__________________________________________________________________________________________________\n",
            "conv2d_7 (Conv2D)               (None, 512, 16, 16)  2359808     batch_normalization_6[0][0]      \n",
            "__________________________________________________________________________________________________\n",
            "batch_normalization_7 (BatchNor (None, 512, 16, 16)  2048        conv2d_7[0][0]                   \n",
            "__________________________________________________________________________________________________\n",
            "max_pooling2d_3 (MaxPooling2D)  (None, 512, 8, 8)    0           batch_normalization_7[0][0]      \n",
            "__________________________________________________________________________________________________\n",
            "conv2d_8 (Conv2D)               (None, 1024, 8, 8)   4719616     max_pooling2d_3[0][0]            \n",
            "__________________________________________________________________________________________________\n",
            "batch_normalization_8 (BatchNor (None, 1024, 8, 8)   4096        conv2d_8[0][0]                   \n",
            "__________________________________________________________________________________________________\n",
            "conv2d_9 (Conv2D)               (None, 1024, 8, 8)   9438208     batch_normalization_8[0][0]      \n",
            "__________________________________________________________________________________________________\n",
            "batch_normalization_9 (BatchNor (None, 1024, 8, 8)   4096        conv2d_9[0][0]                   \n",
            "__________________________________________________________________________________________________\n",
            "conv2d_transpose (Conv2DTranspo (None, 512, 16, 16)  2097664     batch_normalization_9[0][0]      \n",
            "__________________________________________________________________________________________________\n",
            "concatenate (Concatenate)       (None, 1024, 16, 16) 0           conv2d_transpose[0][0]           \n",
            "                                                                 conv2d_7[0][0]                   \n",
            "__________________________________________________________________________________________________\n",
            "conv2d_10 (Conv2D)              (None, 512, 16, 16)  4719104     concatenate[0][0]                \n",
            "__________________________________________________________________________________________________\n",
            "batch_normalization_10 (BatchNo (None, 512, 16, 16)  2048        conv2d_10[0][0]                  \n",
            "__________________________________________________________________________________________________\n",
            "conv2d_11 (Conv2D)              (None, 512, 16, 16)  2359808     batch_normalization_10[0][0]     \n",
            "__________________________________________________________________________________________________\n",
            "batch_normalization_11 (BatchNo (None, 512, 16, 16)  2048        conv2d_11[0][0]                  \n",
            "__________________________________________________________________________________________________\n",
            "conv2d_transpose_1 (Conv2DTrans (None, 256, 32, 32)  524544      batch_normalization_11[0][0]     \n",
            "__________________________________________________________________________________________________\n",
            "concatenate_1 (Concatenate)     (None, 512, 32, 32)  0           conv2d_transpose_1[0][0]         \n",
            "                                                                 conv2d_5[0][0]                   \n",
            "__________________________________________________________________________________________________\n",
            "conv2d_12 (Conv2D)              (None, 256, 32, 32)  1179904     concatenate_1[0][0]              \n",
            "__________________________________________________________________________________________________\n",
            "batch_normalization_12 (BatchNo (None, 256, 32, 32)  1024        conv2d_12[0][0]                  \n",
            "__________________________________________________________________________________________________\n",
            "conv2d_13 (Conv2D)              (None, 256, 32, 32)  590080      batch_normalization_12[0][0]     \n",
            "__________________________________________________________________________________________________\n",
            "batch_normalization_13 (BatchNo (None, 256, 32, 32)  1024        conv2d_13[0][0]                  \n",
            "__________________________________________________________________________________________________\n",
            "conv2d_transpose_2 (Conv2DTrans (None, 128, 64, 64)  131200      batch_normalization_13[0][0]     \n",
            "__________________________________________________________________________________________________\n",
            "concatenate_2 (Concatenate)     (None, 256, 64, 64)  0           conv2d_transpose_2[0][0]         \n",
            "                                                                 conv2d_3[0][0]                   \n",
            "__________________________________________________________________________________________________\n",
            "conv2d_14 (Conv2D)              (None, 128, 64, 64)  295040      concatenate_2[0][0]              \n",
            "__________________________________________________________________________________________________\n",
            "batch_normalization_14 (BatchNo (None, 128, 64, 64)  512         conv2d_14[0][0]                  \n",
            "__________________________________________________________________________________________________\n",
            "conv2d_15 (Conv2D)              (None, 128, 64, 64)  147584      batch_normalization_14[0][0]     \n",
            "__________________________________________________________________________________________________\n",
            "batch_normalization_15 (BatchNo (None, 128, 64, 64)  512         conv2d_15[0][0]                  \n",
            "__________________________________________________________________________________________________\n",
            "conv2d_transpose_3 (Conv2DTrans (None, 64, 128, 128) 32832       batch_normalization_15[0][0]     \n",
            "__________________________________________________________________________________________________\n",
            "concatenate_3 (Concatenate)     (None, 128, 128, 128 0           conv2d_transpose_3[0][0]         \n",
            "                                                                 conv2d_1[0][0]                   \n",
            "__________________________________________________________________________________________________\n",
            "conv2d_16 (Conv2D)              (None, 64, 128, 128) 73792       concatenate_3[0][0]              \n",
            "__________________________________________________________________________________________________\n",
            "batch_normalization_16 (BatchNo (None, 64, 128, 128) 256         conv2d_16[0][0]                  \n",
            "__________________________________________________________________________________________________\n",
            "conv2d_17 (Conv2D)              (None, 64, 128, 128) 36928       batch_normalization_16[0][0]     \n",
            "__________________________________________________________________________________________________\n",
            "batch_normalization_17 (BatchNo (None, 64, 128, 128) 256         conv2d_17[0][0]                  \n",
            "__________________________________________________________________________________________________\n",
            "conv2d_18 (Conv2D)              (None, 1, 128, 128)  65          batch_normalization_17[0][0]     \n",
            "==================================================================================================\n",
            "Total params: 31,054,721\n",
            "Trainable params: 31,042,945\n",
            "Non-trainable params: 11,776\n",
            "__________________________________________________________________________________________________\n"
          ],
          "name": "stdout"
        }
      ]
    },
    {
      "cell_type": "code",
      "metadata": {
        "id": "yEQnWYQQ67Ss"
      },
      "source": [
        "\r\n",
        "model_core = unet_1()\r\n",
        "model_ET = unet_1()"
      ],
      "execution_count": 46,
      "outputs": []
    },
    {
      "cell_type": "code",
      "metadata": {
        "id": "c-mJiJMB7mKG"
      },
      "source": [
        "pred_core = model_core.predict(crop)\r\n",
        "pred_ET = model_ET.predict(crop)"
      ],
      "execution_count": 47,
      "outputs": []
    },
    {
      "cell_type": "code",
      "metadata": {
        "id": "L6BC20iE7rda"
      },
      "source": [
        "def paint_color_algo(pred_full, pred_core , pred_ET , li):   \r\n",
        "    \r\n",
        "    pred_full[pred_full > 0.2] = 2    \r\n",
        "    pred_full[pred_full != 2] = 0\r\n",
        "    pred_core[pred_core > 0.2] = 1      \r\n",
        "    pred_core[pred_core != 1] = 0\r\n",
        "    pred_ET[pred_ET > 0.2] = 4          \r\n",
        "    pred_ET[pred_ET != 4] = 0\r\n",
        "\r\n",
        "    total = np.zeros((1,128,128),np.float32)  \r\n",
        "    total[:,:,:] = pred_full[:,:,:]\r\n",
        "    for i in range(pred_core.shape[0]):\r\n",
        "        for j in range(64):\r\n",
        "            for k in range(64):\r\n",
        "                if pred_core[i,0,j,k] != 0 and pred_full[0,li[i][0]+j,li[i][1]+k] !=0:\r\n",
        "                    total[0,li[i][0]+j,li[i][1]+k] = pred_core[i,0,j,k]\r\n",
        "                if pred_ET[i,0,j,k] != 0 and pred_full[0,li[i][0]+j,li[i][1]+k] !=0:\r\n",
        "                    total[0,li[i][0]+j,li[i][1]+k] = pred_ET[i,0,j,k]\r\n",
        "                \r\n",
        "    \r\n",
        "    \r\n",
        "    return total"
      ],
      "execution_count": 55,
      "outputs": []
    },
    {
      "cell_type": "code",
      "metadata": {
        "id": "uI51TTCS83Os"
      },
      "source": [
        "tmp = paint_color_algo(pred_full[0,:,:,:], pred_core, pred_ET, li)\r\n",
        "\r\n",
        "core = np.zeros((1,128,128),np.float32)\r\n",
        "ET = np.zeros((1,128,128),np.float32)\r\n",
        "core[:,:,:] = tmp[:,:,:]\r\n",
        "ET[:,:,:] = tmp[:,:,:]\r\n",
        "core[core == 4] = 1\r\n",
        "core[core != 1] = 0\r\n",
        "ET[ET != 4] = 0"
      ],
      "execution_count": 56,
      "outputs": []
    },
    {
      "cell_type": "code",
      "metadata": {
        "colab": {
          "base_uri": "https://localhost:8080/",
          "height": 591
        },
        "id": "fF_Rer8I8KNq",
        "outputId": "9a37fc69-e13b-40c3-c03d-7485293e3739"
      },
      "source": [
        "plt.figure(figsize=(15,10))\r\n",
        "\r\n",
        "plt.subplot(341)\r\n",
        "plt.title('T1')\r\n",
        "plt.axis('off')\r\n",
        "plt.imshow(t1[90, 0, :, :],cmap='gray')\r\n",
        "\r\n",
        "plt.subplot(342)\r\n",
        "plt.title('T2')\r\n",
        "plt.axis('off')\r\n",
        "plt.imshow(t2[90, 0, :, :],cmap='gray')\r\n",
        "    \r\n",
        "plt.subplot(343)\r\n",
        "plt.title('Flair')\r\n",
        "plt.axis('off')\r\n",
        "plt.imshow(flair[90, 0, :, :],cmap='gray')\r\n",
        "\r\n",
        "plt.subplot(344)\r\n",
        "plt.title('T1c')\r\n",
        "plt.axis('off')\r\n",
        "plt.imshow(t1ce[90, 0, :, :],cmap='gray')\r\n",
        "\r\n",
        "plt.subplot(345)\r\n",
        "plt.title('Ground Truth(Full)')\r\n",
        "plt.axis('off')\r\n",
        "plt.imshow(seg[90, 0, :, :],cmap='gray')\r\n",
        "\r\n",
        "\r\n",
        "plt.subplot(349)\r\n",
        "plt.title('Prediction (Full)')\r\n",
        "plt.axis('off')\r\n",
        "plt.imshow(pred_full[0, 0, :, :],cmap='gray')\r\n",
        "\r\n",
        "plt.subplot(3,4,10)\r\n",
        "plt.title('Prediction (Core)')\r\n",
        "plt.axis('off')\r\n",
        "plt.imshow(core[0, :, :],cmap='gray')\r\n",
        "\r\n",
        "plt.subplot(3,4,11)\r\n",
        "plt.title('Prediction (ET)')\r\n",
        "plt.axis('off')\r\n",
        "plt.imshow(ET[0, :, :],cmap='gray')\r\n",
        "\r\n",
        "plt.subplot(3,4,12)\r\n",
        "plt.title('Prediction (All)')\r\n",
        "plt.axis('off')\r\n",
        "plt.imshow(tmp[0, :, :],cmap='gray')\r\n",
        "\r\n",
        "plt.show()\r\n"
      ],
      "execution_count": 58,
      "outputs": [
        {
          "output_type": "display_data",
          "data": {
            "image/png": "[encoded data removed]",
            "text/plain": [
              "<Figure size 1080x720 with 9 Axes>"
            ]
          },
          "metadata": {
            "tags": [],
            "needs_background": "light"
          }
        }
      ]
    }
  ]
}